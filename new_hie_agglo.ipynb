{
 "cells": [
  {
   "cell_type": "code",
   "execution_count": 1,
   "id": "294980b4",
   "metadata": {},
   "outputs": [],
   "source": [
    "import numpy as np"
   ]
  },
  {
   "cell_type": "code",
   "execution_count": 3,
   "id": "e6140635",
   "metadata": {},
   "outputs": [],
   "source": [
    "data=np.array([[10,10],[80,70],[70,70],[20,30]])\n",
    "cluster=[[i]for i in range (len(data))]"
   ]
  },
  {
   "cell_type": "code",
   "execution_count": 4,
   "id": "1b0fc695",
   "metadata": {},
   "outputs": [],
   "source": [
    "def manhattan(p1,p2):\n",
    "    distance=np.sum(np.abs(p1,p2))\n",
    "    return distance\n"
   ]
  },
  {
   "cell_type": "code",
   "execution_count": 5,
   "id": "c7e1f1c7",
   "metadata": {},
   "outputs": [],
   "source": [
    "def cluster_distance(c1,c2,data):\n",
    "    return min(manhattan(data[i],data[j])for i in c1 for j in c2)"
   ]
  },
  {
   "cell_type": "code",
   "execution_count": 6,
   "id": "d112af35",
   "metadata": {},
   "outputs": [],
   "source": [
    "clusters=[[i] for i in range(len(data))]"
   ]
  },
  {
   "cell_type": "code",
   "execution_count": 7,
   "id": "2f5f0c7f",
   "metadata": {},
   "outputs": [],
   "source": [
    "while len(clusters)>1:\n",
    "    min_dist=float('inf')\n",
    "    to_merge=(0,1)\n",
    "    \n",
    "    for i in range (len(clusters)):\n",
    "        for j in range (i+1, len(clusters)):\n",
    "            dist=cluster_distance(clusters[i],clusters[j],data)\n",
    "            if dist<min_dist:\n",
    "                min_dist=dist\n",
    "                to_merge=(i,j)\n",
    "    i,j= to_merge\n",
    "    new_cluster=clusters[i]+clusters[j]\n",
    "    clusters.pop(max(i,j))\n",
    "    clusters.pop(min(i,j))\n",
    "    clusters.append(new_cluster)\n",
    "    "
   ]
  },
  {
   "cell_type": "code",
   "execution_count": 8,
   "id": "ec145234",
   "metadata": {},
   "outputs": [
    {
     "name": "stdout",
     "output_type": "stream",
     "text": [
      "final clusters: [[0, 1, 2, 3]]\n"
     ]
    }
   ],
   "source": [
    "print(\"final clusters:\", clusters)"
   ]
  },
  {
   "cell_type": "code",
   "execution_count": null,
   "id": "c6c18331",
   "metadata": {},
   "outputs": [],
   "source": [
    "clusters = {\n",
    "    \"Cluster A\": [0, 1],  # Indices of points belonging to Cluster A\n",
    "    \"Cluster B\": [2, 3],  # Indices of points belonging to Cluster B\n",
    "    \"Cluster C\": [4, 5]   # Indices of points belonging to Cluster C\n",
    "}\n",
    "\n",
    "# Modified version of cluster_distance to use named clusters\n",
    "def single_linkage(named_c1, named_c2, data):\n",
    "    # Single linkage: min dist between any two points in named_c1 and named_c2\n",
    "    return min(manhattan(data[i], data[j]) for i in named_c1 for j in named_c2)\n",
    "\n",
    "# Step 4: Agglomerative clustering loop with named clusters\n",
    "while len(clusters) > 1:\n",
    "    min_dist = float('inf')\n",
    "    to_merge = (\"\", \"\")  # Holds the names of the clusters to merge\n",
    "\n",
    "    # Loop through pairs of clusters\n",
    "    cluster_names = list(clusters.keys())\n",
    "    for i in range(len(cluster_names)):\n",
    "        for j in range(i + 1, len(cluster_names)):\n",
    "            c1_name = cluster_names[i]\n",
    "            c2_name = cluster_names[j]\n",
    "\n",
    "            dist = single_linkage(clusters[c1_name], clusters[c2_name], data)\n",
    "            if dist < min_dist:\n",
    "                min_dist = dist\n",
    "                to_merge = (c1_name, c2_name)\n",
    "\n",
    "    # Merge two closest clusters\n",
    "    c1_name, c2_name = to_merge\n",
    "    new_cluster_name = f\"{c1_name}-{c2_name}\"  # Name of the new merged cluster\n",
    "    new_cluster = clusters[c1_name] + clusters[c2_name]\n",
    "\n",
    "    # Add the new cluster to the dictionary\n",
    "    clusters[new_cluster_name] = new_cluster\n",
    "\n",
    "    # Remove old clusters from the dictionary\n",
    "    del clusters[c1_name]\n",
    "    del clusters[c2_name]\n",
    "\n",
    "    print(f\"Merged {c1_name} and {c2_name} into {new_cluster_name}\")\n"
   ]
  }
 ],
 "metadata": {
  "kernelspec": {
   "display_name": "Python 3",
   "language": "python",
   "name": "python3"
  },
  "language_info": {
   "codemirror_mode": {
    "name": "ipython",
    "version": 3
   },
   "file_extension": ".py",
   "mimetype": "text/x-python",
   "name": "python",
   "nbconvert_exporter": "python",
   "pygments_lexer": "ipython3",
   "version": "3.13.3"
  }
 },
 "nbformat": 4,
 "nbformat_minor": 5
}
